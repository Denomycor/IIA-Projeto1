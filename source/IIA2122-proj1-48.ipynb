{
 "cells": [
  {
   "cell_type": "markdown",
   "metadata": {
    "colab_type": "text",
    "id": "LekFEsVbua_R"
   },
   "source": [
    "\n",
    "# Projeto nº 1 - Puzzle dos Robôs\n",
    "## Introdução à Inteligência Artificial - edição 2021/22\n",
    "\n",
    "\n",
    "\n",
    "<img src=\"../res/robots.png\" alt=\"Drawing\" style=\"width: 250px;\"/>\n",
    "\n",
    "## Grupo: 48\n",
    "\n",
    "### Elementos do Grupo\n",
    "\n",
    "\n",
    "Número: 55386          Nome: Vicente Sousa\n",
    "\n",
    "Número: 54394          Nome: Afonso Esteves\n",
    "\n",
    "Número: 54476          Nome: João Anjos\n"
   ]
  },
  {
   "cell_type": "markdown",
   "metadata": {},
   "source": [
    "### Representação dos estados \n",
    "A representação dos estados é feita através de 3 parâmetros, o size (tamanho do tabuleiro), blacks (lista com as coordenadas dos robôs pretos) e white (coordenadas do robô branco).\n",
    "As coordenadas são representadas através de um tuplo de inteiros no formato (x,y), sendo que estes valores, seguindo a ideia de um referencial, teem origem no canto inferior esquerdo do tabuleiro. Segue-se uma imagem que representa este sistema de coordenadas, incluindo a coordenada do robô branco, para uma melhor compreensão:\n",
    "\n",
    "<img src=\"../res/robotsaxis.png\" alt=\"Drawing\" style=\"width: 250px;\"/>"
   ]
  },
  {
   "cell_type": "code",
   "execution_count": 1,
   "metadata": {},
   "outputs": [],
   "source": [
    "#Código que representa um estado\n",
    "class PuzzleRobotsState:\n",
    "    def __init__(self, size, blacks, white):\n",
    "        #Size of the board\n",
    "        self.size = size\n",
    "        #List of the coordinates of all black robotss\n",
    "        self.blacks = blacks\n",
    "        #white robot coordinates\n",
    "        self.white = white\n",
    "\n",
    "    def clone(self):\n",
    "        return PuzzleRobotsState(self.size, list(self.blacks), self.white)\n",
    "\n",
    "    def display(self):\n",
    "        lowbar = '+' + '---+'*self.size\n",
    "        print(lowbar)\n",
    "        for row in range(self.size):\n",
    "            print('| ', end = '')\n",
    "            for col in range(self.size):\n",
    "                cont = ' '\n",
    "                coords = (col, 4-row)\n",
    "                if col == row and col == self.size//2 : cont = 'X'\n",
    "                elif coords in self.blacks: cont = 'B'\n",
    "                elif coords == self.white: cont = 'W'\n",
    "                print(cont +' | ', end = '')\n",
    "            print('\\n' + lowbar)\n",
    "\n",
    "    def __eq__(self, obj):\n",
    "        return isinstance(obj, PuzzleRobotsState) and self.size == obj.size and \\\n",
    "            self.white == obj.white and self.blacks == obj.blacks\n",
    "\n",
    "    def __ne__(self, obj):\n",
    "        return not self == obj\n",
    "    \n",
    "    def __hash__(self):\n",
    "        return hash( (self.size, tuple(self.blacks), self.white) )\n"
   ]
  },
  {
   "cell_type": "code",
   "execution_count": 2,
   "metadata": {},
   "outputs": [],
   "source": [
    "# Representação do estado com N=5 ilustrado no enunciado\n",
    "PuzzleRobotsState(5, [(3,4), (0,2), (1,1), (3,1), (4,0)], (1,4))"
   ]
  },
  {
   "cell_type": "code",
   "execution_count": 3,
   "metadata": {},
   "outputs": [],
   "source": [
    "# Representação de um estado com N=7 à sua escolha\n",
    "PuzzleRobotsState(7, [(0,2), (1,6), (2,0), (2,5), (4,4), (5,2), (6,6)], (5,6))"
   ]
  },
  {
   "cell_type": "markdown",
   "metadata": {},
   "source": [
    "### Representação das acções\n",
    "\n",
    "As ações admissíveis são representadas através da classe PuzzleRobotsAction. Esta contém dois atributos, o moving que guarda o par ordenado (x,y), as coordenadas da peça que se vai mover, e o stop que guarda o par ordenado (x,y), as coordenadas da peça contra qual o moving vai embater. É ainda definido o método getFinalPos que utiliza lazy evaluation para calcular a posição final da peça que se move e o método actionCost que devolve o custo da ação executada. Abaixo encontra-se o código para a classe descrita juntamente com a implementação do PuzzleRobots."
   ]
  },
  {
   "cell_type": "code",
   "execution_count": 4,
   "metadata": {},
   "outputs": [],
   "source": [
    "from searchPlus import *\n",
    "\n",
    "def tupleSub(first, *others):\n",
    "    temp = list(first)\n",
    "    for tuple_ in others:\n",
    "        for i in range(min(len(temp), len(tuple_))):\n",
    "            temp[i] -= tuple_[i]\n",
    "    return tuple(temp)\n",
    "\n",
    "class PuzzleRobotsAction:\n",
    "    def __init__(self, moving, stop):\n",
    "        #Coordinates of the moving piece\n",
    "        self.moving = moving\n",
    "        #Coordinates of the piece stoping the movement\n",
    "        self.stop = stop\n",
    "        #Final Position\n",
    "        self.final_pos = ()\n",
    "\n",
    "    def display(self):\n",
    "        print(\"from: \" + str(self.moving[0])+\", \"+str(self.moving[1])+\" colliding with \"+str(self.stop[0])+\", \"+str(self.stop[1]))\n",
    "\n",
    "    \"\"\"Get the final position of the piece, after the action\"\"\"\n",
    "    def getFinalPos(self):\n",
    "        if self.final_pos == ():\n",
    "            if self.moving[0] == self.stop[0]:\n",
    "                self.final_pos = (self.stop[0], self.stop[1] + (1 if self.stop[1] < self.moving[1] else -1))\n",
    "            elif self.moving[1] == self.stop[1]:\n",
    "                self.final_pos = (self.stop[0] + (1 if self.stop[0] < self.moving[0] else -1), self.stop[1])\n",
    "            else:\n",
    "                raise RuntimeError\n",
    "        return self.final_pos\n",
    "\n",
    "    \"\"\"Get the cost of the action\"\"\"\n",
    "    def actionCost(self):\n",
    "        return abs(list(filter(lambda i: i != 0, tupleSub(self.moving, self.getFinalPos())))[0])\n",
    "\n",
    "\n",
    "class PuzzleRobots(Problem):\n",
    "\n",
    "    def __init__(self, initial, goal=None):\n",
    "        self.initial = initial\n",
    "        self.goal = goal\n",
    "\n",
    "    def actions(self, state):\n",
    "        for l in range(2):\n",
    "            for i in range(state.size):\n",
    "                col = [c for c in state.blacks + [state.white] if c[l] == i]\n",
    "                col.sort()\n",
    "                for a in range(len(col)):\n",
    "                    if a != len(col)-1:\n",
    "                        yield PuzzleRobotsAction(col[a], col[a+1])\n",
    "                    if a != 0:\n",
    "                        yield PuzzleRobotsAction(col[a], col[a-1])\n",
    "\n",
    "    def result(self, state, action):\n",
    "        new_state = state.clone()\n",
    "        if(new_state.white == action.moving):\n",
    "            new_state.white = action.getFinalPos()\n",
    "        else:\n",
    "            for i in range(len(new_state.blacks)):\n",
    "                if(new_state.blacks[i] == action.moving):\n",
    "                    new_state.blacks[i] = action.getFinalPos()\n",
    "                    break\n",
    "        return new_state\n",
    "            \n",
    "    def goal_test(self, state):\n",
    "        return self.goal == state.white\n",
    "\n",
    "    def path_cost(self, c, state1, action, state2):\n",
    "        return c + action.actionCost()\n",
    "    \n",
    "    def display(self, state):\n",
    "        state.display()\n",
    "\n",
    "    def exec(self,estado,accoes):\n",
    "        custo = 0\n",
    "        for a in accoes:\n",
    "            seg = self.result(estado,a)\n",
    "            custo = self.path_cost(custo,estado,a,seg)\n",
    "            estado = seg\n",
    "            self.display(estado)\n",
    "            print('Custo acumulado = '+custo)\n",
    "            print('Ações possíveis:')\n",
    "            for act in self.actions():\n",
    "                act.display()\n",
    "        return (estado,custo)\n"
   ]
  },
  {
   "cell_type": "markdown",
   "metadata": {},
   "source": [
    "### Criação de  instâncias do problema e execução de sequências de acções\n",
    "(Mostrem que o código está a funcionar, construindo instâncias da classe **PuzzleRobots**, fazendo o display dos estados, verificando o teste de estado final, gerando as acções para alguns estados, executando acções a partir de alguns estados e gerando novos estados e mostrando a evolução dos custos; verificando que os estados não se modificam com as acções (são gerados novos estados) e que a igualdade e a comparação entre estados funciona. Mostrem que a execução de sequências de acções está a funcionar bem.)"
   ]
  },
  {
   "cell_type": "code",
   "execution_count": 5,
   "metadata": {},
   "outputs": [],
   "source": [
    "# Definição de instância do problema com N=5 com estado inicial representado no enunciado\n",
    "init = PuzzleRobotsState(5, [(3,4), (0,2), (1,1), (3,1), (4,0)], (1,4))\n",
    "prob = PuzzleRobots(init, (2,2))\n",
    "actions1 = [PuzzleRobotsAction((1,4), (1,1)), PuzzleRobotsAction((3,4), (3,1)), PuzzleRobotsAction((1,2), (3,2))]\n",
    "actions2 = [PuzzleRobotsAction((1,4), (3,4)), PuzzleRobotsAction((1,1), (3,1)), PuzzleRobotsAction((2,4), (2,1))]\n",
    "\n",
    "#Estado não muda ações\n",
    "initClone = init.clone()\n",
    "prob.result(init)\n",
    "print(\"initClone == init: \" + initClone == init)\n",
    "\n",
    "# Execução de uma sequência de acções até estado final com apresentação da evolução dos custos\n",
    "print('Caminho 1:')\n",
    "result1 = prob.exec(init, actions1)\n",
    "print('É o objetivo: '+prob.goal_test(result1[0]))\n",
    "print()\n",
    "\n",
    "# Execução de uma outra sequência distinta de acções até estado final com apresentação da evolução dos custos\n",
    "print('Caminho 2:')\n",
    "result2 = prob.exec(init, actions2)\n",
    "print('É o objetivo: '+prob.goal_test(result2[0]))"
   ]
  },
  {
   "cell_type": "code",
   "execution_count": 6,
   "metadata": {},
   "outputs": [],
   "source": [
    "# Definição de instância do problema com N=7 com estado inicial ilustrado no início deste relatório\n",
    "init = PuzzleRobotsState(7, [(0,1), (1,0), (2,5), (3, 2), (5,0), (4,3)], (5, 6))\n",
    "prob = PuzzleRobots(init, (3,3))\n",
    "actions3 = [PuzzleRobotsAction((5,6), (5,0)), PuzzleRobotsAction((1,0), (1,5)), PuzzleRobotsAction((5,1), (0,1)), PuzzleRobotsAction((1,1), (1,4)), PuzzleRobotsAction((1,3), (3,3))]\n",
    "# Execução de uma sequência de acções até estado final com apresentação da evolução dos custos\n",
    "result3 = prob.exec(init, actions3)\n",
    "print('É o objetivo: '+prob.goal_test(result3[0]))"
   ]
  },
  {
   "cell_type": "markdown",
   "metadata": {},
   "source": [
    "### Teste de Procura de Solução\n",
    "(Quem quiser ir mais além, até pode confirmar que o problema está bem modelizado utilizando alguns dos algoritmos de procura como o **depth-first-search()** ou o **breadth-first-search()**, nas suas versões em árvore ou em grafo)"
   ]
  },
  {
   "cell_type": "markdown",
   "metadata": {},
   "source": [
    "### Extras\n",
    "\n",
    "(Se realizou o extra descreva aqui como abordou a sua representação em Python; pode acrescentar as células que considere convenientes)"
   ]
  },
  {
   "cell_type": "code",
   "execution_count": 7,
   "metadata": {},
   "outputs": [],
   "source": [
    "class PuzzleRobotsGen(Problem):\n",
    "    pass"
   ]
  }
 ],
 "metadata": {
  "colab": {
   "collapsed_sections": [],
   "name": "Untitled0.ipynb",
   "provenance": [],
   "version": "0.3.2"
  },
  "kernelspec": {
   "display_name": "Python 3 (ipykernel)",
   "language": "python",
   "name": "python3"
  },
  "language_info": {
   "codemirror_mode": {
    "name": "ipython",
    "version": 3
   },
   "file_extension": ".py",
   "mimetype": "text/x-python",
   "name": "python",
   "nbconvert_exporter": "python",
   "pygments_lexer": "ipython3",
   "version": "3.8.10"
  }
 },
 "nbformat": 4,
 "nbformat_minor": 2
}
